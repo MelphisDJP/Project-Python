{
 "cells": [
  {
   "cell_type": "code",
   "execution_count": 84,
   "metadata": {},
   "outputs": [],
   "source": [
    "import pandas as pd\n",
    "import requests\n",
    "from bs4 import BeautifulSoup\n",
    "import schedule\n",
    "import time\n",
    "import tkinter as tk\n",
    "from tkinter import ttk, messagebox, filedialog\n",
    "from openpyxl import Workbook\n",
    "from openpyxl.styles import Font, PatternFill\n",
    "from selenium import webdriver\n",
    "from selenium.webdriver.common.keys import Keys\n",
    "from selenium.webdriver.common.by import By\n",
    "from selenium.webdriver.support.ui import WebDriverWait\n",
    "from selenium.webdriver.support import expected_conditions as EC\n",
    "from selenium.common.exceptions import NoSuchElementException, TimeoutException"
   ]
  },
  {
   "cell_type": "code",
   "execution_count": 85,
   "metadata": {},
   "outputs": [],
   "source": [
    "class Horario:\n",
    "    def __init__(self):\n",
    "        self.materias = {}\n",
    "        self.url = 'https://www.nuevosemestre.com/'\n",
    "        self.driver = webdriver.Chrome()\n",
    "    \n",
    "    def buscar_mejores_profesores(self, busqueda):\n",
    "        try:\n",
    "            self.driver.get(self.url)\n",
    "            print(f'Se ha ingresado a la url {self.url} \\nComenzando Web Scrapping')\n",
    "            \n",
    "            buscador_field = WebDriverWait(self.driver, 20).until(\n",
    "                EC.element_to_be_clickable((By.XPATH, 'html/body/header/div/form/input'))\n",
    "            )\n",
    "            print(f'Se ha localizado el elemento {buscador_field.text}')\n",
    "            \n",
    "            buscador_field.click()\n",
    "            \n",
    "            buscador_field.send_keys(busqueda)\n",
    "            buscador_field.send_keys(Keys.RETURN)\n",
    "            \n",
    "            \n",
    "            secciones_button = WebDriverWait(self.driver, 20).until(                \n",
    "                EC.element_to_be_clickable((By.XPATH, '/html/body/main/div/div[1]/div[1]/div/a[2]'))\n",
    "            )\n",
    "            print(f'Se ha localizado el elemento {secciones_button.text}')\n",
    "            \n",
    "            secciones_button.click()\n",
    "            \n",
    "            WebDriverWait(self.driver, 50).until(\n",
    "                EC.presence_of_all_elements_located((By.XPATH, '/html/body/main/div/div[1]/table'))\n",
    "            )\n",
    "            \n",
    "            materias = []\n",
    "            count = 1\n",
    "            \n",
    "            while True:\n",
    "                materias_selector = f'/html/body/main/div/div[1]/table/tbody/tr[{count}]/td[3]/a'\n",
    "                \n",
    "                try:\n",
    "                    def buscar_materia_table():\n",
    "                        nombre_materia = WebDriverWait(self.driver, 10).until(\n",
    "                            EC.presence_of_element_located((By.XPATH, materias_selector))\n",
    "                        )\n",
    "                        if not nombre_materia:\n",
    "                            for i in range (1, 10):\n",
    "                                count += i\n",
    "                        materias.append(nombre_materia.text)\n",
    "                        count += 2\n",
    "                except TimeoutException:\n",
    "                    break\n",
    "            \n",
    "            print(\"Materias encontradas:\")\n",
    "            for materia in materias:\n",
    "                print(materia)\n",
    "            \n",
    "            return materias\n",
    "        \n",
    "        except (NoSuchElementException, TimeoutException) as e:\n",
    "            print(f'Hubo un error con el buscador: {e}')\n",
    "            return []\n",
    "\n",
    "            \n",
    "            \n",
    "        except Exception as e:\n",
    "            print(f'Hubo un error con el buscador: {e}')"
   ]
  },
  {
   "cell_type": "code",
   "execution_count": 86,
   "metadata": {},
   "outputs": [
    {
     "name": "stdout",
     "output_type": "stream",
     "text": [
      "Se ha ingresado a la url https://www.nuevosemestre.com/ \n",
      "Comenzando Web Scrapping\n",
      "Se ha localizado el elemento \n",
      "Se ha localizado el elemento 8 SECCIONES\n",
      "Materias encontradas:\n",
      "Nociones De Economía\n",
      "Principios De Economía\n",
      "Economía Dominicana\n",
      "Introducción A La Economía\n",
      "Microeconomía\n",
      "Microeconomía\n",
      "Economía Dominicana\n",
      "Formulación Y Eval De Proy\n"
     ]
    }
   ],
   "source": [
    "try:\n",
    "    horario = Horario()\n",
    "    horario.buscar_mejores_profesores('Economía')\n",
    "except Exception as e:\n",
    "    print(f'Ha ocurrido un error, revisar {e}')"
   ]
  }
 ],
 "metadata": {
  "kernelspec": {
   "display_name": "Python 3",
   "language": "python",
   "name": "python3"
  },
  "language_info": {
   "codemirror_mode": {
    "name": "ipython",
    "version": 3
   },
   "file_extension": ".py",
   "mimetype": "text/x-python",
   "name": "python",
   "nbconvert_exporter": "python",
   "pygments_lexer": "ipython3",
   "version": "3.12.3"
  }
 },
 "nbformat": 4,
 "nbformat_minor": 2
}
